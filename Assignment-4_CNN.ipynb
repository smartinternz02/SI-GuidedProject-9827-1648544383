{
 "cells": [
  {
   "cell_type": "code",
   "execution_count": 1,
   "id": "111c50cf-82c9-43d5-b4d5-60106c7fca15",
   "metadata": {},
   "outputs": [],
   "source": [
    "from tensorflow.keras.preprocessing.image import ImageDataGenerator"
   ]
  },
  {
   "cell_type": "code",
   "execution_count": 2,
   "id": "d2c64554-2fbc-4ac0-b430-b53569bd8e5f",
   "metadata": {},
   "outputs": [],
   "source": [
    "train_datagen = ImageDataGenerator(rescale=1/255,zoom_range=0.2,horizontal_flip=True,vertical_flip=False)"
   ]
  },
  {
   "cell_type": "code",
   "execution_count": 3,
   "id": "3dd2563f-81f8-4095-add3-4c1cb681a1a2",
   "metadata": {},
   "outputs": [],
   "source": [
    "test_datagen = ImageDataGenerator(rescale=1/255)"
   ]
  },
  {
   "cell_type": "code",
   "execution_count": 4,
   "id": "d2b433e4-447c-4c5e-8fb7-17b4f7223036",
   "metadata": {},
   "outputs": [
    {
     "name": "stdout",
     "output_type": "stream",
     "text": [
      "Found 2527 images belonging to 6 classes.\n"
     ]
    }
   ],
   "source": [
    "x_train=train_datagen.flow_from_directory(r'D:\\Users\\Dell\\OneDrive\\Desktop\\VIT_SmartInternz\\archive\\Garbage classification\\Garbage classification',\n",
    "                                          target_size=(64,64),\n",
    "                                          class_mode='categorical',batch_size=100)"
   ]
  },
  {
   "cell_type": "code",
   "execution_count": 5,
   "id": "6d01e976-0cae-4460-9fd0-54555b4f7d96",
   "metadata": {},
   "outputs": [
    {
     "data": {
      "text/plain": [
       "26"
      ]
     },
     "execution_count": 5,
     "metadata": {},
     "output_type": "execute_result"
    }
   ],
   "source": [
    "len(x_train)"
   ]
  },
  {
   "cell_type": "code",
   "execution_count": 6,
   "id": "c7d54282-bb35-4227-a481-491a335b2d01",
   "metadata": {},
   "outputs": [
    {
     "data": {
      "text/plain": [
       "{'cardboard': 0, 'glass': 1, 'metal': 2, 'paper': 3, 'plastic': 4, 'trash': 5}"
      ]
     },
     "execution_count": 6,
     "metadata": {},
     "output_type": "execute_result"
    }
   ],
   "source": [
    "x_train.class_indices"
   ]
  },
  {
   "cell_type": "markdown",
   "id": "04e29824-25ef-4bbb-bf5b-14845abcb505",
   "metadata": {},
   "source": [
    "Importing Libraries:"
   ]
  },
  {
   "cell_type": "code",
   "execution_count": 7,
   "id": "69bcd235-a6e9-45bf-a3e1-0bf5bc423afb",
   "metadata": {},
   "outputs": [],
   "source": [
    "from tensorflow.keras.models import Sequential\n",
    "from tensorflow.keras.layers import Convolution2D,MaxPooling2D,Flatten,Dense"
   ]
  },
  {
   "cell_type": "markdown",
   "id": "32eda0be-f5be-4300-b7c4-4317e62145a3",
   "metadata": {},
   "source": [
    "Creating Model:"
   ]
  },
  {
   "cell_type": "code",
   "execution_count": 8,
   "id": "85b42bc4-13e8-4bec-9b82-5a335947e8ec",
   "metadata": {},
   "outputs": [],
   "source": [
    "model=Sequential()"
   ]
  },
  {
   "cell_type": "markdown",
   "id": "62807c4a-e6cd-4c59-aece-74accf680675",
   "metadata": {},
   "source": [
    "Adding Layers:"
   ]
  },
  {
   "cell_type": "code",
   "execution_count": 9,
   "id": "5911b400-8410-49b4-b48e-766266e63d79",
   "metadata": {},
   "outputs": [],
   "source": [
    "model.add(Convolution2D(32,(3,3),activation='relu',input_shape=(64,64,3)))"
   ]
  },
  {
   "cell_type": "code",
   "execution_count": 10,
   "id": "cdd02741-5213-48e7-9e60-7265acc681e7",
   "metadata": {},
   "outputs": [],
   "source": [
    "model.add(MaxPooling2D(pool_size=(2,2)))"
   ]
  },
  {
   "cell_type": "code",
   "execution_count": 11,
   "id": "328ce5df-ff94-47eb-b78a-6eddc11cf152",
   "metadata": {},
   "outputs": [],
   "source": [
    "model.add(Flatten())"
   ]
  },
  {
   "cell_type": "code",
   "execution_count": 12,
   "id": "4887b468-72d3-4f67-a481-224a40ffa35b",
   "metadata": {},
   "outputs": [],
   "source": [
    "## Hidden Layer 1\n",
    "model.add(Dense(300,activation='relu'))\n",
    "## Hidden Layer 2\n",
    "model.add(Dense(150,activation='relu'))"
   ]
  },
  {
   "cell_type": "markdown",
   "id": "e4710486-57f8-4ce1-934c-c45c393326fb",
   "metadata": {},
   "source": [
    "Output Layer:"
   ]
  },
  {
   "cell_type": "code",
   "execution_count": 13,
   "id": "43fdc7c2-17e2-4488-a60b-00f49b3b9fd9",
   "metadata": {},
   "outputs": [],
   "source": [
    "model.add(Dense(6,activation='softmax'))"
   ]
  },
  {
   "cell_type": "markdown",
   "id": "718f1974-4329-41bc-b356-f2179a34a45c",
   "metadata": {},
   "source": [
    "Compile the Model:"
   ]
  },
  {
   "cell_type": "code",
   "execution_count": 14,
   "id": "7f148c33-d786-40ef-96da-2a6af1cc1714",
   "metadata": {},
   "outputs": [],
   "source": [
    "model.compile(loss='categorical_crossentropy',optimizer='adam',metrics=['accuracy'])"
   ]
  },
  {
   "cell_type": "markdown",
   "id": "99ebbf57-4724-4599-a13d-833b4f73e38b",
   "metadata": {},
   "source": [
    "Fit the Model:"
   ]
  },
  {
   "cell_type": "code",
   "execution_count": 15,
   "id": "22047fc4-7a53-48a0-91aa-2ccda8681aab",
   "metadata": {},
   "outputs": [
    {
     "name": "stderr",
     "output_type": "stream",
     "text": [
      "C:\\Users\\Dell\\AppData\\Local\\Temp/ipykernel_62336/3129788946.py:1: UserWarning: `Model.fit_generator` is deprecated and will be removed in a future version. Please use `Model.fit`, which supports generators.\n",
      "  model.fit_generator(x_train,steps_per_epoch=len(x_train),epochs=10)\n"
     ]
    },
    {
     "name": "stdout",
     "output_type": "stream",
     "text": [
      "Epoch 1/10\n",
      "26/26 [==============================] - 8s 280ms/step - loss: 2.6053 - accuracy: 0.2188\n",
      "Epoch 2/10\n",
      "26/26 [==============================] - 6s 227ms/step - loss: 1.5655 - accuracy: 0.3474\n",
      "Epoch 3/10\n",
      "26/26 [==============================] - 8s 295ms/step - loss: 1.3836 - accuracy: 0.4571\n",
      "Epoch 4/10\n",
      "26/26 [==============================] - 7s 252ms/step - loss: 1.2893 - accuracy: 0.5038\n",
      "Epoch 5/10\n",
      "26/26 [==============================] - 6s 242ms/step - loss: 1.2193 - accuracy: 0.5433\n",
      "Epoch 6/10\n",
      "26/26 [==============================] - 6s 228ms/step - loss: 1.1365 - accuracy: 0.5825\n",
      "Epoch 7/10\n",
      "26/26 [==============================] - 6s 223ms/step - loss: 1.1080 - accuracy: 0.5928\n",
      "Epoch 8/10\n",
      "26/26 [==============================] - 6s 217ms/step - loss: 1.0508 - accuracy: 0.6126\n",
      "Epoch 9/10\n",
      "26/26 [==============================] - 6s 217ms/step - loss: 0.9981 - accuracy: 0.6343\n",
      "Epoch 10/10\n",
      "26/26 [==============================] - 6s 229ms/step - loss: 0.9684 - accuracy: 0.6510\n"
     ]
    },
    {
     "data": {
      "text/plain": [
       "<keras.callbacks.History at 0x20a29b8ddc0>"
      ]
     },
     "execution_count": 15,
     "metadata": {},
     "output_type": "execute_result"
    }
   ],
   "source": [
    "model.fit_generator(x_train,steps_per_epoch=len(x_train),epochs=10)"
   ]
  },
  {
   "cell_type": "code",
   "execution_count": 16,
   "id": "8ca52603-f52a-4248-9e90-b3a67434c9ea",
   "metadata": {},
   "outputs": [],
   "source": [
    "model.save('garbage.h5')"
   ]
  },
  {
   "cell_type": "markdown",
   "id": "78dc8964-407b-41a9-a117-d9425f388874",
   "metadata": {},
   "source": [
    "Testing the Model:"
   ]
  },
  {
   "cell_type": "code",
   "execution_count": 17,
   "id": "fdc40389-4e1d-4c1c-b41d-d7ce5ef0b3f3",
   "metadata": {},
   "outputs": [],
   "source": [
    "import numpy as np\n",
    "from tensorflow.keras.models import load_model\n",
    "from tensorflow.keras.preprocessing import image"
   ]
  },
  {
   "cell_type": "code",
   "execution_count": 18,
   "id": "2bd09579-af4e-49c7-b2cd-922d10cb518b",
   "metadata": {},
   "outputs": [],
   "source": [
    "model=load_model('garbage.h5')\n",
    "img=image.load_img(r'D:\\Users\\Dell\\OneDrive\\Desktop\\VIT_SmartInternz\\archive\\Garbage classification\\Garbage classification\\metal\\metal18.jpg',\n",
    "                   target_size=(64,64))"
   ]
  },
  {
   "cell_type": "code",
   "execution_count": 19,
   "id": "065af0af-8547-413c-844d-d91ef5f1b976",
   "metadata": {},
   "outputs": [
    {
     "data": {
      "image/png": "[encoded data removed]",
      "text/plain": [
       "<PIL.Image.Image image mode=RGB size=64x64 at 0x20A2D4937C0>"
      ]
     },
     "execution_count": 19,
     "metadata": {},
     "output_type": "execute_result"
    }
   ],
   "source": [
    "img"
   ]
  },
  {
   "cell_type": "code",
   "execution_count": 20,
   "id": "1d1bdb49-56d9-42a3-aaf4-ff53ea9ac122",
   "metadata": {},
   "outputs": [],
   "source": [
    "x=image.img_to_array(img)"
   ]
  },
  {
   "cell_type": "code",
   "execution_count": 21,
   "id": "f95a3b15-3a76-495e-a7c0-f18b16e68b1e",
   "metadata": {},
   "outputs": [
    {
     "data": {
      "text/plain": [
       "array([[[230., 230., 230.],\n",
       "        [226., 226., 226.],\n",
       "        [224., 224., 224.],\n",
       "        ...,\n",
       "        [198., 197., 195.],\n",
       "        [197., 195., 196.],\n",
       "        [196., 194., 195.]],\n",
       "\n",
       "       [[227., 227., 227.],\n",
       "        [226., 226., 226.],\n",
       "        [224., 224., 224.],\n",
       "        ...,\n",
       "        [198., 197., 195.],\n",
       "        [196., 194., 195.],\n",
       "        [196., 194., 195.]],\n",
       "\n",
       "       [[225., 225., 225.],\n",
       "        [224., 224., 224.],\n",
       "        [224., 224., 224.],\n",
       "        ...,\n",
       "        [198., 197., 195.],\n",
       "        [196., 194., 195.],\n",
       "        [194., 192., 193.]],\n",
       "\n",
       "       ...,\n",
       "\n",
       "       [[226., 226., 228.],\n",
       "        [226., 226., 228.],\n",
       "        [226., 226., 228.],\n",
       "        ...,\n",
       "        [182., 182., 182.],\n",
       "        [179., 179., 179.],\n",
       "        [178., 178., 178.]],\n",
       "\n",
       "       [[228., 228., 230.],\n",
       "        [226., 226., 228.],\n",
       "        [226., 226., 228.],\n",
       "        ...,\n",
       "        [184., 184., 184.],\n",
       "        [183., 183., 183.],\n",
       "        [182., 182., 182.]],\n",
       "\n",
       "       [[230., 230., 232.],\n",
       "        [226., 226., 228.],\n",
       "        [225., 225., 227.],\n",
       "        ...,\n",
       "        [185., 185., 185.],\n",
       "        [185., 185., 185.],\n",
       "        [184., 184., 184.]]], dtype=float32)"
      ]
     },
     "execution_count": 21,
     "metadata": {},
     "output_type": "execute_result"
    }
   ],
   "source": [
    "x"
   ]
  },
  {
   "cell_type": "code",
   "execution_count": 22,
   "id": "09e0896c-c7b4-413f-983c-bc993e5ce5d6",
   "metadata": {},
   "outputs": [
    {
     "data": {
      "text/plain": [
       "3"
      ]
     },
     "execution_count": 22,
     "metadata": {},
     "output_type": "execute_result"
    }
   ],
   "source": [
    "x.ndim"
   ]
  },
  {
   "cell_type": "code",
   "execution_count": 23,
   "id": "5c31fa41-2ade-42af-b129-d8423f0705f4",
   "metadata": {},
   "outputs": [],
   "source": [
    "x=np.expand_dims(x,axis=0)"
   ]
  },
  {
   "cell_type": "code",
   "execution_count": 24,
   "id": "ca3f83d1-0f77-4bf2-86e9-6736324426cd",
   "metadata": {},
   "outputs": [
    {
     "data": {
      "text/plain": [
       "array([[[[230., 230., 230.],\n",
       "         [226., 226., 226.],\n",
       "         [224., 224., 224.],\n",
       "         ...,\n",
       "         [198., 197., 195.],\n",
       "         [197., 195., 196.],\n",
       "         [196., 194., 195.]],\n",
       "\n",
       "        [[227., 227., 227.],\n",
       "         [226., 226., 226.],\n",
       "         [224., 224., 224.],\n",
       "         ...,\n",
       "         [198., 197., 195.],\n",
       "         [196., 194., 195.],\n",
       "         [196., 194., 195.]],\n",
       "\n",
       "        [[225., 225., 225.],\n",
       "         [224., 224., 224.],\n",
       "         [224., 224., 224.],\n",
       "         ...,\n",
       "         [198., 197., 195.],\n",
       "         [196., 194., 195.],\n",
       "         [194., 192., 193.]],\n",
       "\n",
       "        ...,\n",
       "\n",
       "        [[226., 226., 228.],\n",
       "         [226., 226., 228.],\n",
       "         [226., 226., 228.],\n",
       "         ...,\n",
       "         [182., 182., 182.],\n",
       "         [179., 179., 179.],\n",
       "         [178., 178., 178.]],\n",
       "\n",
       "        [[228., 228., 230.],\n",
       "         [226., 226., 228.],\n",
       "         [226., 226., 228.],\n",
       "         ...,\n",
       "         [184., 184., 184.],\n",
       "         [183., 183., 183.],\n",
       "         [182., 182., 182.]],\n",
       "\n",
       "        [[230., 230., 232.],\n",
       "         [226., 226., 228.],\n",
       "         [225., 225., 227.],\n",
       "         ...,\n",
       "         [185., 185., 185.],\n",
       "         [185., 185., 185.],\n",
       "         [184., 184., 184.]]]], dtype=float32)"
      ]
     },
     "execution_count": 24,
     "metadata": {},
     "output_type": "execute_result"
    }
   ],
   "source": [
    "x"
   ]
  },
  {
   "cell_type": "code",
   "execution_count": 25,
   "id": "eadb771f-0b8f-4834-97c9-59b40709f036",
   "metadata": {},
   "outputs": [
    {
     "data": {
      "text/plain": [
       "4"
      ]
     },
     "execution_count": 25,
     "metadata": {},
     "output_type": "execute_result"
    }
   ],
   "source": [
    "x.ndim"
   ]
  },
  {
   "cell_type": "code",
   "execution_count": 26,
   "id": "a35be7b2-fc72-4faa-87bb-b6ecf6a54269",
   "metadata": {},
   "outputs": [],
   "source": [
    "pred=np.argmax(model.predict(x),axis=1)"
   ]
  },
  {
   "cell_type": "code",
   "execution_count": 27,
   "id": "c8cb53af-8764-400d-945e-3b8bd91d9a21",
   "metadata": {},
   "outputs": [
    {
     "data": {
      "text/plain": [
       "array([4], dtype=int64)"
      ]
     },
     "execution_count": 27,
     "metadata": {},
     "output_type": "execute_result"
    }
   ],
   "source": [
    "pred"
   ]
  },
  {
   "cell_type": "code",
   "execution_count": 28,
   "id": "b71c835d-1fa3-43cf-a7b4-6b4117906cf4",
   "metadata": {},
   "outputs": [
    {
     "name": "stdout",
     "output_type": "stream",
     "text": [
      "plastic\n"
     ]
    }
   ],
   "source": [
    "index=['cardboard','glass','metal','paper','plastic','trash']\n",
    "print(index[pred[0]])"
   ]
  },
  {
   "cell_type": "markdown",
   "id": "32ab0097-6d4d-48e8-8efa-fc7384c97bfd",
   "metadata": {},
   "source": [
    "Open CV:"
   ]
  },
  {
   "cell_type": "code",
   "execution_count": 29,
   "id": "aeb04f11-187c-4721-a38b-88cc259af4a7",
   "metadata": {},
   "outputs": [],
   "source": [
    "import cv2"
   ]
  },
  {
   "cell_type": "code",
   "execution_count": 30,
   "id": "1144b13f-8daf-4709-9a95-7f9b6bd11019",
   "metadata": {},
   "outputs": [],
   "source": [
    "img=cv2.imread(r'D:\\Users\\Dell\\OneDrive\\Desktop\\VIT_SmartInternz\\archive\\Garbage classification\\Garbage classification\\paper\\paper42.jpg',1)"
   ]
  },
  {
   "cell_type": "code",
   "execution_count": 31,
   "id": "9f091097-a39b-4f32-861b-85cdec16e02d",
   "metadata": {},
   "outputs": [
    {
     "data": {
      "text/plain": [
       "array([[[255, 255, 255],\n",
       "        [255, 255, 255],\n",
       "        [255, 255, 255],\n",
       "        ...,\n",
       "        [157, 175, 186],\n",
       "        [157, 175, 186],\n",
       "        [157, 175, 186]],\n",
       "\n",
       "       [[255, 255, 255],\n",
       "        [255, 255, 255],\n",
       "        [255, 255, 255],\n",
       "        ...,\n",
       "        [158, 176, 187],\n",
       "        [157, 175, 186],\n",
       "        [157, 175, 186]],\n",
       "\n",
       "       [[255, 255, 255],\n",
       "        [255, 255, 255],\n",
       "        [255, 255, 255],\n",
       "        ...,\n",
       "        [158, 176, 187],\n",
       "        [158, 176, 187],\n",
       "        [157, 175, 186]],\n",
       "\n",
       "       ...,\n",
       "\n",
       "       [[114,  79,  53],\n",
       "        [121,  91,  64],\n",
       "        [104,  80,  58],\n",
       "        ...,\n",
       "        [158, 175, 184],\n",
       "        [158, 175, 184],\n",
       "        [157, 174, 183]],\n",
       "\n",
       "       [[121,  87,  63],\n",
       "        [114,  84,  59],\n",
       "        [120,  99,  78],\n",
       "        ...,\n",
       "        [158, 175, 184],\n",
       "        [157, 174, 183],\n",
       "        [157, 174, 183]],\n",
       "\n",
       "       [[132, 101,  76],\n",
       "        [108,  80,  56],\n",
       "        [138, 119,  98],\n",
       "        ...,\n",
       "        [157, 174, 183],\n",
       "        [157, 174, 183],\n",
       "        [157, 174, 183]]], dtype=uint8)"
      ]
     },
     "execution_count": 31,
     "metadata": {},
     "output_type": "execute_result"
    }
   ],
   "source": [
    "img"
   ]
  },
  {
   "cell_type": "code",
   "execution_count": 34,
   "id": "baf6a0ab-0dc8-426d-8bb9-00bc9e3633e7",
   "metadata": {},
   "outputs": [],
   "source": [
    "img1=cv2.imread(r'D:\\Users\\Dell\\OneDrive\\Desktop\\VIT_SmartInternz\\archive\\Garbage classification\\Garbage classification\\paper\\paper42.jpg',0)"
   ]
  },
  {
   "cell_type": "code",
   "execution_count": 35,
   "id": "5b6466bd-494e-41df-bf01-aa01a059fc6a",
   "metadata": {},
   "outputs": [
    {
     "data": {
      "text/plain": [
       "array([[255, 255, 255, ..., 176, 176, 176],\n",
       "       [255, 255, 255, ..., 177, 176, 176],\n",
       "       [255, 255, 255, ..., 177, 177, 176],\n",
       "       ...,\n",
       "       [ 75,  86,  76, ..., 176, 176, 175],\n",
       "       [ 84,  80,  95, ..., 176, 175, 175],\n",
       "       [ 97,  76, 115, ..., 175, 175, 175]], dtype=uint8)"
      ]
     },
     "execution_count": 35,
     "metadata": {},
     "output_type": "execute_result"
    }
   ],
   "source": [
    "img1"
   ]
  },
  {
   "cell_type": "code",
   "execution_count": 36,
   "id": "df78a451-b277-4e97-967b-1564b04c68f1",
   "metadata": {},
   "outputs": [
    {
     "name": "stdout",
     "output_type": "stream",
     "text": [
      "[[255 255 255 ... 176 176 176]\n",
      " [255 255 255 ... 177 176 176]\n",
      " [255 255 255 ... 177 177 176]\n",
      " ...\n",
      " [ 75  86  76 ... 176 176 175]\n",
      " [ 84  80  95 ... 176 175 175]\n",
      " [ 97  76 115 ... 175 175 175]]\n"
     ]
    }
   ],
   "source": [
    "print(img)"
   ]
  },
  {
   "cell_type": "code",
   "execution_count": 37,
   "id": "d005a53b-b5da-46a0-acbf-5b1e429f35f2",
   "metadata": {},
   "outputs": [
    {
     "name": "stdout",
     "output_type": "stream",
     "text": [
      "(384, 512)\n"
     ]
    }
   ],
   "source": [
    "print(img.shape)"
   ]
  },
  {
   "cell_type": "code",
   "execution_count": 38,
   "id": "22504edd-cdf8-447a-b089-968072da372f",
   "metadata": {},
   "outputs": [
    {
     "data": {
      "text/plain": [
       "<function destroyAllWindows>"
      ]
     },
     "execution_count": 38,
     "metadata": {},
     "output_type": "execute_result"
    }
   ],
   "source": [
    "img=cv2.imread(r'D:\\Users\\Dell\\OneDrive\\Desktop\\VIT_SmartInternz\\archive\\Garbage classification\\Garbage classification\\paper\\paper42.jpg',1)\n",
    "cv2.imshow('image',img)\n",
    "cv2.waitKey(0)\n",
    "cv2.destroyAllWindows"
   ]
  },
  {
   "cell_type": "markdown",
   "id": "04f19180-d6bb-4be3-abbb-439e101a33a4",
   "metadata": {},
   "source": [
    "CNN Video Analysis:"
   ]
  },
  {
   "cell_type": "code",
   "execution_count": 42,
   "id": "7897c9e3-7eb1-421e-b1c8-3f82a350f918",
   "metadata": {},
   "outputs": [],
   "source": [
    "import cv2\n",
    "import numpy as np\n",
    "from tensorflow.keras.models import load_model\n",
    "from tensorflow.keras.preprocessing import image\n",
    "model=load_model('garbage.h5')\n",
    "video=cv2.VideoCapture(0)\n",
    "index=['cardboard','glass','metal','paper','plastic','trash']\n",
    "while 1:\n",
    "    succes,frame=video.read()\n",
    "    cv2.imwrite('image.jpg',frame)\n",
    "    img=image.load_img('image.jpg',target_size=(64,64))\n",
    "    x=image.img_to_array(img)\n",
    "    x=np.expand_dims(x,axis=0)\n",
    "    pred=np.argmax(model.predict(x),axis=1)\n",
    "    y=pred[0]\n",
    "    cv2.putText(frame,'Output : '+str(index[y]),(100,100),cv2.FONT_HERSHEY_SIMPLEX,1,(0,0,0),2)\n",
    "    cv2.imshow('image',frame)\n",
    "    if cv2.waitKey(1) & 0xFF == ord('q'):\n",
    "        break\n",
    "video.release()\n",
    "cv2.destroyAllWindows()"
   ]
  },
  {
   "cell_type": "code",
   "execution_count": null,
   "id": "b0619187-b738-40d1-b9e5-b0f665ec8429",
   "metadata": {},
   "outputs": [],
   "source": []
  }
 ],
 "metadata": {
  "kernelspec": {
   "display_name": "Python 3 (ipykernel)",
   "language": "python",
   "name": "python3"
  },
  "language_info": {
   "codemirror_mode": {
    "name": "ipython",
    "version": 3
   },
   "file_extension": ".py",
   "mimetype": "text/x-python",
   "name": "python",
   "nbconvert_exporter": "python",
   "pygments_lexer": "ipython3",
   "version": "3.9.7"
  }
 },
 "nbformat": 4,
 "nbformat_minor": 5
}
